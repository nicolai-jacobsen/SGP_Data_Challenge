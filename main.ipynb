{
 "cells": [
  {
   "metadata": {},
   "cell_type": "markdown",
   "source": [
    "# SailGP Data Analyst Challenge\n",
    "\n",
    "The aim is to test you python abilities. The challenge is to analyze the data provided and answer the questions below. You can use any library you want to help you with the analysis. The data is from the SailGP event in Auckland 2025. The data is in the 'DATA' folder.\n",
    "\n",
    "There are various sources available.\n",
    "\n",
    "The Boat Logs are in the 'Boat_Logs' folder. The data is in csv format and the columns are described in the 'Boat_Logs/Boat_Logs_Columns.csv' file.\n",
    "The 'Course_Marks_2025-01-19.csv' file contains the mark positions and wind reading on the course for the whole day.\n",
    "\n",
    "The Race_XML folder contains the xml files for each race that contains information on where the boundaries of the course are, the theoretical position of the marks and the target racecourse axis.\n",
    "\n",
    "The 2025-01-19_man_summary.csv file contains the metrics from the manoeuvre summary for the day.\n",
    "The 2025-01-19_straight_lines.csv file contains the metrics from the straight line summary for the day.\n",
    "\n",
    "Both are derived from the boat logs.\n",
    "\n",
    "The 2502 m8_APW_HSB2_HSRW.kph.csv file contains the polar data for the boats in that config.\n",
    "\n",
    "## Requierements\n",
    "- Chose at least 3 questions from the list below to answer.\n",
    "- Python 3.8 or higher\n",
    "- Notebook should be able to run without any errors from start to finish.\n",
    "- Specify the libraries (imports) used in the notebook.\n",
    "- Any comments to make the notebook self-explanatory and easy to follow would be appreciated.\n",
    "- If you can't get to the end of a question, we would appreciate the code you have written so far and explain what you were trying to do.\n",
    "\n",
    "## Further information:\n",
    "- We usually use bokeh for visualizations. So any showcase of bokeh would be appreciated.\n",
    "-\n",
    "\n",
    "## Submitting the results.\n",
    "It would be great if you could provide a jupyter notebook with the code and the results of the analysis. You can submit the results by sharing a link to a git repository.\n"
   ],
   "id": "2d0fba298dd4674a"
  },
  {
   "metadata": {},
   "cell_type": "markdown",
   "source": [
    "### Imports and re-used functions\n",
    "Free section to initialize the notebook with the necessary imports and functions that will be used in the notebook.\n",
    "\n"
   ],
   "id": "d2c766dfd4d17a82"
  },
  {
   "metadata": {},
   "cell_type": "code",
   "outputs": [],
   "execution_count": null,
   "source": "",
   "id": "1c3955f6358cd7b3"
  },
  {
   "metadata": {},
   "cell_type": "markdown",
   "source": "## Question 1: Write a Python function that can take a compass direction (ie. TWD or Heading) and calculate an accurate mean value across a downsampled frequency. Eg. If TWD is at 1Hz, give me a 10s average.",
   "id": "f9d166957248f0f7"
  },
  {
   "metadata": {},
   "cell_type": "code",
   "outputs": [],
   "execution_count": null,
   "source": "",
   "id": "75556c527d1bf0c6"
  },
  {
   "metadata": {},
   "cell_type": "markdown",
   "source": "## Question 2: Given a course XML and a timeseries of boat Lat/Lon values, calculate a VMC column for the same timeseries.\n",
   "id": "aa948eea67b6d187"
  },
  {
   "metadata": {},
   "cell_type": "code",
   "outputs": [],
   "execution_count": null,
   "source": "",
   "id": "215a1b096ddf991a"
  },
  {
   "metadata": {},
   "cell_type": "markdown",
   "source": "## Question 3: Verify and comment on the boats calibration. If possible propose a post-calibrated set of wind numbers and a potential calibration table.\n",
   "id": "59eded55c0230916"
  },
  {
   "metadata": {},
   "cell_type": "code",
   "outputs": [],
   "execution_count": null,
   "source": "",
   "id": "5e0fa8ab74285ef0"
  },
  {
   "metadata": {},
   "cell_type": "markdown",
   "source": "## Question 4: Given a timeseries of Lat/Lon positions and a course XML, in a Python notebook, calculate a Distance to Leader metric for each boat.",
   "id": "e9be5cb7d6e14e29"
  },
  {
   "metadata": {},
   "cell_type": "code",
   "outputs": [],
   "execution_count": null,
   "source": "",
   "id": "c225a8b3cf1e382e"
  },
  {
   "metadata": {},
   "cell_type": "markdown",
   "source": "## Question 5: Given a course XML, along with a wind speed and direction and a polar, calculate the minimum number of tacks or gybes for each leg of the course and each gate mark on the leg.",
   "id": "4c23f6f44eac779"
  },
  {
   "metadata": {},
   "cell_type": "code",
   "outputs": [],
   "execution_count": null,
   "source": "",
   "id": "f55a57d792cc4849"
  },
  {
   "metadata": {},
   "cell_type": "markdown",
   "source": "## Question 6: Calculate a “tacked” set of variables depending on the tack of the boat, so that sailors don’t need to think about what tack they’re on when looking at measurements. And show the results in a visualisation.\n",
   "id": "49813bad6749aff0"
  },
  {
   "metadata": {},
   "cell_type": "code",
   "outputs": [],
   "execution_count": null,
   "source": "",
   "id": "939047c7233179e3"
  },
  {
   "metadata": {},
   "cell_type": "markdown",
   "source": "## Question 7: Given a set of tacks (in CSV), and train a model to explain the key features of these tacks when optimizing for vmg. Show appropriate visualisations to explain your conclusions.",
   "id": "48f959e7cb85e711"
  },
  {
   "metadata": {},
   "cell_type": "code",
   "outputs": [],
   "execution_count": null,
   "source": "",
   "id": "9b8435876f454825"
  },
  {
   "metadata": {},
   "cell_type": "markdown",
   "source": "## Question 8: Give insights on the racing on what made a team win or underperform in the race.",
   "id": "997ddc7b58fdbd02"
  },
  {
   "metadata": {},
   "cell_type": "code",
   "outputs": [],
   "execution_count": null,
   "source": "",
   "id": "fc977ed2340f1b78"
  }
 ],
 "metadata": {
  "kernelspec": {
   "display_name": "Python 3",
   "language": "python",
   "name": "python3"
  },
  "language_info": {
   "codemirror_mode": {
    "name": "ipython",
    "version": 2
   },
   "file_extension": ".py",
   "mimetype": "text/x-python",
   "name": "python",
   "nbconvert_exporter": "python",
   "pygments_lexer": "ipython2",
   "version": "2.7.6"
  }
 },
 "nbformat": 4,
 "nbformat_minor": 5
}
